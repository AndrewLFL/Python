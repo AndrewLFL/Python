{
 "cells": [
  {
   "cell_type": "code",
   "execution_count": 3,
   "id": "211b2661",
   "metadata": {},
   "outputs": [
    {
     "name": "stdout",
     "output_type": "stream",
     "text": [
      "{'Kcinco', 'Kdois', 'Ktres', 'Kum'}\n"
     ]
    }
   ],
   "source": [
    "estadosAbranger = set([\"mt\",\"wa\",\"or\",\"id\",\"nv\",\"ut\",\"ca\",\"az\"])\n",
    "\n",
    "estacoes = {}\n",
    "estacoes[\"Kum\"] = set([\"id\",\"nv\",\"ut\"])\n",
    "estacoes[\"Kdois\"] = set([\"wa\",\"id\",\"mt\"])\n",
    "estacoes[\"Ktres\"] = set([\"or\",\"nv\",\"ca\"])\n",
    "estacoes[\"Kquatro\"] = set([\"nv\",\"ut\"])\n",
    "estacoes[\"Kcinco\"] = set([\"ca\",\"az\"])\n",
    "\n",
    "estacoesFinais = set()\n",
    "\n",
    "while estadosAbranger:\n",
    "    melhorEstacao = None\n",
    "    estadosCobertos = set()\n",
    "    for estacao, estados in estacoes.items():\n",
    "        cobertos = estadosAbranger & estados\n",
    "        if len(cobertos) > len(estadosCobertos):\n",
    "            melhorEstacao = estacao\n",
    "            estadosCobertos = cobertos\n",
    "    estadosAbranger -= estadosCobertos\n",
    "    estacoesFinais.add(melhorEstacao)\n",
    "    \n",
    "print(estacoesFinais)"
   ]
  }
 ],
 "metadata": {
  "kernelspec": {
   "display_name": "Python 3 (ipykernel)",
   "language": "python",
   "name": "python3"
  },
  "language_info": {
   "codemirror_mode": {
    "name": "ipython",
    "version": 3
   },
   "file_extension": ".py",
   "mimetype": "text/x-python",
   "name": "python",
   "nbconvert_exporter": "python",
   "pygments_lexer": "ipython3",
   "version": "3.10.9"
  }
 },
 "nbformat": 4,
 "nbformat_minor": 5
}
