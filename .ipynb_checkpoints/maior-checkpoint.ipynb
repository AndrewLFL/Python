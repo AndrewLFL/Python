{
 "cells": [
  {
   "cell_type": "code",
   "execution_count": 2,
   "id": "4c6d6404",
   "metadata": {},
   "outputs": [],
   "source": [
    "def maior(lista, tam, i=0):\n",
    "    if tam==0:\n",
    "        return lista[i]\n",
    "    else:\n",
    "        if lista[tam-1] > lista[i]:\n",
    "            return maior(lista, tam-1, tam-1)\n",
    "        else:\n",
    "            return maior(lista, tam-1, i)\n",
    "    "
   ]
  },
  {
   "cell_type": "code",
   "execution_count": 3,
   "id": "d16479df",
   "metadata": {},
   "outputs": [
    {
     "data": {
      "text/plain": [
       "3"
      ]
     },
     "execution_count": 3,
     "metadata": {},
     "output_type": "execute_result"
    }
   ],
   "source": [
    "lista = [1,3,2]\n",
    "maior(lista, len(lista))"
   ]
  }
 ],
 "metadata": {
  "kernelspec": {
   "display_name": "Python 3 (ipykernel)",
   "language": "python",
   "name": "python3"
  },
  "language_info": {
   "codemirror_mode": {
    "name": "ipython",
    "version": 3
   },
   "file_extension": ".py",
   "mimetype": "text/x-python",
   "name": "python",
   "nbconvert_exporter": "python",
   "pygments_lexer": "ipython3",
   "version": "3.10.9"
  }
 },
 "nbformat": 4,
 "nbformat_minor": 5
}
