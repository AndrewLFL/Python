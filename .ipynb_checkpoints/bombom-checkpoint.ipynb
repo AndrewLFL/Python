{
 "cells": [
  {
   "cell_type": "code",
   "execution_count": 16,
   "id": "5b2bfbd6",
   "metadata": {},
   "outputs": [
    {
     "name": "stdout",
     "output_type": "stream",
     "text": [
      "KE\n",
      "QE\n",
      "AC\n",
      "AE\n",
      "AP\n",
      "KO\n",
      "JE\n",
      "Luana\n"
     ]
    }
   ],
   "source": [
    "cartasEdu=[]\n",
    "totalEdu=0\n",
    "totalLuana=0\n",
    "cartasLuana=[]\n",
    "vira=input()\n",
    "cartasLuana.append(input())\n",
    "cartasLuana.append(input())\n",
    "cartasLuana.append(input())\n",
    "cartasEdu.append(input())\n",
    "cartasEdu.append(input())\n",
    "cartasEdu.append(input())\n",
    "naipeDominante = vira[1]\n",
    "        \n",
    "for i in cartasLuana:\n",
    "    if(i[0]=='A'):\n",
    "        totalLuana+=10\n",
    "    elif(i[0]=='J'):\n",
    "        totalLuana+=11\n",
    "    elif(i[0]=='K'):\n",
    "        totalLuana+=13\n",
    "    elif(i[0]=='Q'):\n",
    "        totalLuana+=12\n",
    "    if(i[1]==naipeDominante):\n",
    "        totalLuana+=4\n",
    "\n",
    "for i in cartasEdu:\n",
    "    if(i[0]=='A'):\n",
    "        totalEdu+=10\n",
    "    elif(i[0]=='J'):\n",
    "        totalEdu+=11\n",
    "    elif(i[0]=='K'):\n",
    "        totalEdu+=13\n",
    "    elif(i[0]=='Q'):\n",
    "        totalEdu+=12\n",
    "    if(i[1]==naipeDominante):\n",
    "        totalEdu+=4\n",
    "\n",
    "if(totalLuana>totalEdu):\n",
    "    print(\"Luana\")\n",
    "elif(totalEdu>totalLuana):\n",
    "    print(\"Edu\")\n",
    "else:\n",
    "    print(\"empate\")\n",
    "    \n"
   ]
  },
  {
   "cell_type": "code",
   "execution_count": null,
   "id": "75ce31b3",
   "metadata": {},
   "outputs": [],
   "source": []
  }
 ],
 "metadata": {
  "kernelspec": {
   "display_name": "Python 3 (ipykernel)",
   "language": "python",
   "name": "python3"
  },
  "language_info": {
   "codemirror_mode": {
    "name": "ipython",
    "version": 3
   },
   "file_extension": ".py",
   "mimetype": "text/x-python",
   "name": "python",
   "nbconvert_exporter": "python",
   "pygments_lexer": "ipython3",
   "version": "3.10.9"
  }
 },
 "nbformat": 4,
 "nbformat_minor": 5
}
