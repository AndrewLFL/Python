{
 "cells": [
  {
   "cell_type": "code",
   "execution_count": null,
   "id": "575365ff",
   "metadata": {},
   "outputs": [],
   "source": [
    "n = int(input())\n",
    "m = int(input())\n",
    "s = int(input())\n",
    "i = 0\n",
    "for j in range(n,m):\n",
    "    str(j)\n",
    "    for c in j:\n",
    "        soma+=int(c)\n",
    "    if(soma==s):\n",
    "        i=int(j)\n",
    "        \n",
    "print(i)"
   ]
  }
 ],
 "metadata": {
  "kernelspec": {
   "display_name": "Python 3 (ipykernel)",
   "language": "python",
   "name": "python3"
  },
  "language_info": {
   "codemirror_mode": {
    "name": "ipython",
    "version": 3
   },
   "file_extension": ".py",
   "mimetype": "text/x-python",
   "name": "python",
   "nbconvert_exporter": "python",
   "pygments_lexer": "ipython3",
   "version": "3.10.9"
  }
 },
 "nbformat": 4,
 "nbformat_minor": 5
}
