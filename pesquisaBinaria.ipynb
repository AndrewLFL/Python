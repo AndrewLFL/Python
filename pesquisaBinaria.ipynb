{
 "cells": [
  {
   "cell_type": "code",
   "execution_count": 23,
   "id": "97347e70",
   "metadata": {},
   "outputs": [],
   "source": [
    "def pesquisa_binaria(lista, item):\n",
    "    baixo = 0\n",
    "    alto = len(lista)-1\n",
    "    while baixo <= alto:\n",
    "        meio = (alto+baixo)//2\n",
    "        chute = lista[meio]\n",
    "        if chute==item:\n",
    "            return meio\n",
    "        elif chute > item:\n",
    "            alto = meio - 1\n",
    "        else:\n",
    "            baixo = meio + 1\n",
    "    return -1 "
   ]
  },
  {
   "cell_type": "code",
   "execution_count": 10,
   "id": "2f3f6931",
   "metadata": {},
   "outputs": [],
   "source": [
    "def bubble_sort(lista):\n",
    "    i = 1 \n",
    "    aux = 0\n",
    "    for i in range(len(lista)):\n",
    "        for j in range(len(lista)-1):\n",
    "            if lista[j]>lista[j+1]:\n",
    "                aux = lista[j]\n",
    "                lista[j] = lista[j+1]\n",
    "                lista[j+1] = aux"
   ]
  },
  {
   "cell_type": "code",
   "execution_count": 69,
   "id": "e03c7d3b",
   "metadata": {},
   "outputs": [
    {
     "name": "stdout",
     "output_type": "stream",
     "text": [
      "[1, 2, 5, 7, 10, 15, 25]\n",
      "2\n",
      "-1\n"
     ]
    }
   ],
   "source": [
    "lista = [1,5,2,7,10,15,25]\n",
    "bubble_sort(lista)\n",
    "print(lista)\n",
    "print(pesquisa_binaria(lista, 5))\n",
    "print(pesquisa_binaria(lista, 9))"
   ]
  }
 ],
 "metadata": {
  "kernelspec": {
   "display_name": "Python 3 (ipykernel)",
   "language": "python",
   "name": "python3"
  },
  "language_info": {
   "codemirror_mode": {
    "name": "ipython",
    "version": 3
   },
   "file_extension": ".py",
   "mimetype": "text/x-python",
   "name": "python",
   "nbconvert_exporter": "python",
   "pygments_lexer": "ipython3",
   "version": "3.10.9"
  }
 },
 "nbformat": 4,
 "nbformat_minor": 5
}
