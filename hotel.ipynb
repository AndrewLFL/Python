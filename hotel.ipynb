{
 "cells": [
  {
   "cell_type": "code",
   "execution_count": 19,
   "id": "51cd4620",
   "metadata": {},
   "outputs": [
    {
     "name": "stdout",
     "output_type": "stream",
     "text": [
      "100\n",
      "20\n",
      "15\n",
      "6460\n"
     ]
    }
   ],
   "source": [
    "#01/07 a 01/08\n",
    "\n",
    "d = int(input())\n",
    "a = int(input())\n",
    "n = int(input())\n",
    "total = 0\n",
    "\n",
    "if(n>15):\n",
    "    total = (32-n)*(d + 14*a) \n",
    "else:\n",
    "    total = (32-n)*(d+(n-1)*a)\n",
    "\n",
    "print(total)"
   ]
  }
 ],
 "metadata": {
  "kernelspec": {
   "display_name": "Python 3 (ipykernel)",
   "language": "python",
   "name": "python3"
  },
  "language_info": {
   "codemirror_mode": {
    "name": "ipython",
    "version": 3
   },
   "file_extension": ".py",
   "mimetype": "text/x-python",
   "name": "python",
   "nbconvert_exporter": "python",
   "pygments_lexer": "ipython3",
   "version": "3.10.9"
  }
 },
 "nbformat": 4,
 "nbformat_minor": 5
}
