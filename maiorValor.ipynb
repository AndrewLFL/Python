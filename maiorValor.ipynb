{
 "cells": [
  {
   "cell_type": "code",
   "execution_count": null,
   "id": "e35a0014",
   "metadata": {},
   "outputs": [],
   "source": [
    "n = int(input())\n",
    "m = int(input())\n",
    "s = int(input())\n",
    "i = -1\n",
    "for j in range(n,m):\n",
    "    algarismos = str(j)\n",
    "    soma=0\n",
    "    i = 0\n",
    "    while(i<len(algarismos)):\n",
    "        soma+=int(algarismo[i])\n",
    "        i+=1\n",
    "    if(soma==s):\n",
    "        i=j\n",
    "print(i)"
   ]
  }
 ],
 "metadata": {
  "kernelspec": {
   "display_name": "Python 3 (ipykernel)",
   "language": "python",
   "name": "python3"
  },
  "language_info": {
   "codemirror_mode": {
    "name": "ipython",
    "version": 3
   },
   "file_extension": ".py",
   "mimetype": "text/x-python",
   "name": "python",
   "nbconvert_exporter": "python",
   "pygments_lexer": "ipython3",
   "version": "3.10.9"
  }
 },
 "nbformat": 4,
 "nbformat_minor": 5
}
