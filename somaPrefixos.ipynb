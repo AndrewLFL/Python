{
 "cells": [
  {
   "cell_type": "code",
   "execution_count": 39,
   "id": "138ebf45",
   "metadata": {},
   "outputs": [
    {
     "name": "stdout",
     "output_type": "stream",
     "text": [
      "[4, 2, 0, 5, 6, 1, 2, 3, -3, 4, 0, -2]\n",
      "[4, 6, 6, 11, 17, 18, 20, 23, 20, 24, 24, 22]\n",
      "20\n",
      "11\n",
      "A soma do elementos do intervalo[l,r] é : 9\n"
     ]
    }
   ],
   "source": [
    "lista = [4,2,0,5,6,1,2,3,-3,4,0,-2]\n",
    "soma = []\n",
    "\n",
    "for i in lista:\n",
    "    soma.append(0)\n",
    "    \n",
    "    \n",
    "soma[0]=lista[0]\n",
    "\n",
    "#Calculo da soma de prefixos\n",
    "for i in range(1,len(lista)):\n",
    "    soma[i] = soma[i-1]+lista[i]\n",
    "    \n",
    "print(lista)\n",
    "print(soma)\n",
    "\n",
    "#Query\n",
    "l = 4\n",
    "r = 8 \n",
    "print(soma[r])\n",
    "print(soma[l-1])\n",
    "print(f'A soma do elementos do intervalo[l,r] é : {(soma[r]-soma[l-1])}')"
   ]
  }
 ],
 "metadata": {
  "kernelspec": {
   "display_name": "Python 3 (ipykernel)",
   "language": "python",
   "name": "python3"
  },
  "language_info": {
   "codemirror_mode": {
    "name": "ipython",
    "version": 3
   },
   "file_extension": ".py",
   "mimetype": "text/x-python",
   "name": "python",
   "nbconvert_exporter": "python",
   "pygments_lexer": "ipython3",
   "version": "3.10.9"
  }
 },
 "nbformat": 4,
 "nbformat_minor": 5
}
