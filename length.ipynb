{
 "cells": [
  {
   "cell_type": "code",
   "execution_count": 24,
   "id": "445190c8",
   "metadata": {},
   "outputs": [],
   "source": [
    "def length(lista):\n",
    "    l = lista.copy()\n",
    "    if not l:\n",
    "        return 0\n",
    "    else:\n",
    "        l.pop()\n",
    "        return 1 + length(l)\n"
   ]
  },
  {
   "cell_type": "code",
   "execution_count": 33,
   "id": "d15f9b80",
   "metadata": {},
   "outputs": [
    {
     "name": "stdout",
     "output_type": "stream",
     "text": [
      "2\n",
      "[1, 2]\n"
     ]
    }
   ],
   "source": [
    "lista = [1,2]\n",
    "print(length(lista))\n",
    "print(lista)"
   ]
  }
 ],
 "metadata": {
  "kernelspec": {
   "display_name": "Python 3 (ipykernel)",
   "language": "python",
   "name": "python3"
  },
  "language_info": {
   "codemirror_mode": {
    "name": "ipython",
    "version": 3
   },
   "file_extension": ".py",
   "mimetype": "text/x-python",
   "name": "python",
   "nbconvert_exporter": "python",
   "pygments_lexer": "ipython3",
   "version": "3.10.9"
  }
 },
 "nbformat": 4,
 "nbformat_minor": 5
}
