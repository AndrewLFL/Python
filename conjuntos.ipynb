{
 "cells": [
  {
   "cell_type": "code",
   "execution_count": 15,
   "id": "8ecdc000",
   "metadata": {},
   "outputs": [
    {
     "name": "stdout",
     "output_type": "stream",
     "text": [
      "{'Urano', 'Saturno', 'Mercurio', 'Vênus', 'Jupiter', 'Terra', 'Netuno', 'Marte'}\n",
      "{'Vênus', 'Terra', 'Marte', 'Mercurio'}\n",
      "{'Jupiter', 'Netuno', 'Saturno', 'Urano'}\n",
      "True\n",
      "True\n",
      "True\n",
      "False\n"
     ]
    }
   ],
   "source": [
    "planetas = ['Mercurio','Vênus','Terra','Marte','Jupiter','Saturno','Urano','Netuno']\n",
    "planetasSet = set(planetas)\n",
    "gasososSet = {'Jupiter','Saturno','Urano','Netuno'}\n",
    "rochososSet = {'Mercurio','Vênus','Terra','Marte'}\n",
    "#União\n",
    "print(rochososSet | gasososSet)\n",
    "#Diferença\n",
    "print(planetasSet - gasososSet)\n",
    "#Intersecção\n",
    "print(planetasSet & gasososSet)\n",
    "#Verifica se os conjuntos são disjuntos\n",
    "print(gasososSet.isdisjoint(rochososSet))\n",
    "#Verifica se os conjuntos são iguais\n",
    "print(rochososSet | gasososSet == planetasSet)\n",
    "#Rochosos pertence a planetas\n",
    "print(rochososSet<planetasSet)\n",
    "#Planetas não pertence a gasosos\n",
    "print(planetasSet<gasososSet)\n",
    "planetasSet.add('Plutão')\n",
    "friosSet = gasososSet.copy()\n",
    "estrelas = ['Sirius', 'Rigel', 'Canopus', 'Vega']\n",
    "#Imutaveis\n",
    "estrelas = frozenset(estrelas)"
   ]
  }
 ],
 "metadata": {
  "kernelspec": {
   "display_name": "Python 3 (ipykernel)",
   "language": "python",
   "name": "python3"
  },
  "language_info": {
   "codemirror_mode": {
    "name": "ipython",
    "version": 3
   },
   "file_extension": ".py",
   "mimetype": "text/x-python",
   "name": "python",
   "nbconvert_exporter": "python",
   "pygments_lexer": "ipython3",
   "version": "3.10.9"
  }
 },
 "nbformat": 4,
 "nbformat_minor": 5
}
