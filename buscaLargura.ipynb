{
 "cells": [
  {
   "cell_type": "code",
   "execution_count": 7,
   "id": "99311faf",
   "metadata": {},
   "outputs": [],
   "source": [
    "from collections import deque "
   ]
  },
  {
   "cell_type": "code",
   "execution_count": 8,
   "id": "7a2034d1",
   "metadata": {},
   "outputs": [],
   "source": [
    "def pesquisa(nome):\n",
    "    filaPesquisa = deque()\n",
    "    filaPesquisa += grafo[nome]\n",
    "    verificadas = []\n",
    "    while filaPesquisa:\n",
    "        pessoa = filaPesquisa.popleft()\n",
    "        if not pessoa in verificadas:\n",
    "            if pessoa == \"manga\":    \n",
    "                print(pessoa + \" é um vendedor de manga!\") \n",
    "                return True\n",
    "            else:\n",
    "                filaPesquisa += grafo[pessoa]\n",
    "                verificadas.append(pessoa)\n",
    "    return False"
   ]
  },
  {
   "cell_type": "code",
   "execution_count": 9,
   "id": "4b71689c",
   "metadata": {},
   "outputs": [
    {
     "name": "stdout",
     "output_type": "stream",
     "text": [
      "manga é um vendedor de manga!\n"
     ]
    },
    {
     "data": {
      "text/plain": [
       "True"
      ]
     },
     "execution_count": 9,
     "metadata": {},
     "output_type": "execute_result"
    }
   ],
   "source": [
    "grafo = {}\n",
    "grafo[\"voce\"] = [\"alice\",\"bob\",\"claire\"]\n",
    "grafo[\"bob\"] = [\"anuj\",\"peggy\"]\n",
    "grafo[\"alice\"] = [\"peggy\"]\n",
    "grafo[\"claire\"] = [\"manga\",\"johnny\"]\n",
    "grafo[\"anuj\"] = []\n",
    "grafo[\"peggy\"] = []\n",
    "grafo[\"manga\"] = []\n",
    "grafo[\"johnny\"] = []\n",
    "\n",
    "pesquisa(\"voce\")"
   ]
  }
 ],
 "metadata": {
  "kernelspec": {
   "display_name": "Python 3 (ipykernel)",
   "language": "python",
   "name": "python3"
  },
  "language_info": {
   "codemirror_mode": {
    "name": "ipython",
    "version": 3
   },
   "file_extension": ".py",
   "mimetype": "text/x-python",
   "name": "python",
   "nbconvert_exporter": "python",
   "pygments_lexer": "ipython3",
   "version": "3.10.9"
  }
 },
 "nbformat": 4,
 "nbformat_minor": 5
}
